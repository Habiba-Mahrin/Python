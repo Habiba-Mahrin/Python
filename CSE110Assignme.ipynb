{
  "cells": [
    {
      "cell_type": "markdown",
      "metadata": {
        "id": "oMYzsTcnHEll"
      },
      "source": [
        "# CSE110 Assignment 7\n",
        "\n",
        "\n",
        "## Write the Python code of the following problems:\n",
        "**<font color='red'>[MUST MAINTAIN VARIABLE NAMING CONVENTIONS FOR ALL THE TASKS]</font>**"
      ]
    },
    {
      "cell_type": "markdown",
      "metadata": {
        "id": "jT-t2zlnHEll"
      },
      "source": [
        "### Task 1\n",
        "\n",
        "Given a list named my_list. <br/>\n",
        "my_list=[10,1,20,3,6,2,5,11,15,2,12,14,17,18,29] <br/>\n",
        "Now use bubble sort to sort my_list into ascending order.\n",
        "\n",
        "**Output**<br/>\n",
        "[1, 2, 2, 3, 5, 6, 10, 11, 12, 14, 15, 17, 18, 20, 29]"
      ]
    },
    {
      "cell_type": "code",
      "execution_count": null,
      "metadata": {
        "id": "7qXVakLgHElm",
        "outputId": "eb277e9b-10da-4ce6-c892-cb5e74a47a10"
      },
      "outputs": [
        {
          "name": "stdout",
          "output_type": "stream",
          "text": [
            "[1, 2, 2, 3, 5, 6, 10, 11, 12, 14, 15, 17, 18, 20, 29]\n"
          ]
        }
      ],
      "source": [
        "#todo\n",
        "#creating a buble sort function.\n",
        "def buble_sort_ascending (number_list):\n",
        "    length = len(number_list)\n",
        "    #outer loop.\n",
        "    for index in range(length-1):\n",
        "        #inner loop.\n",
        "        for after_index in range (length-index-1):\n",
        "            if number_list[after_index+1] < number_list[after_index]:\n",
        "                #changing index.\n",
        "                number_list[after_index], number_list[after_index+1] = number_list[after_index+1], number_list[after_index]\n",
        "    print (number_list)\n",
        "\n",
        "my_list = [10,1,20,3,6,2,5,11,15,2,12,14,17,18,29]\n",
        "#function call.\n",
        "buble_sort_ascending(my_list)"
      ]
    },
    {
      "cell_type": "markdown",
      "metadata": {
        "id": "w1QgeWd2HElp"
      },
      "source": [
        "### Task 2\n",
        "\n",
        "Given a list named my_list. <br/>\n",
        "my_list=[10,1,20,3,6,2,5,11,15,2,12,14,17,18,29] <br/>\n",
        "Now use selection sort to sort my_list into ascending order.\n",
        "\n",
        "**Output**<br/>\n",
        "[1, 2, 2, 3, 5, 6, 10, 11, 12, 14, 15, 17, 18, 20, 29]\n",
        "\n"
      ]
    },
    {
      "cell_type": "code",
      "execution_count": null,
      "metadata": {
        "id": "am0B_8ICHElq",
        "outputId": "72061d7b-9ade-4b19-c239-af70ddebe0a0"
      },
      "outputs": [
        {
          "name": "stdout",
          "output_type": "stream",
          "text": [
            "[1, 2, 2, 3, 5, 6, 10, 11, 12, 14, 15, 17, 18, 20, 29]\n"
          ]
        }
      ],
      "source": [
        "#todo\n",
        "#creating a selection sort function.\n",
        "def selection_sort_ascending(number_list):\n",
        "    length = len(number_list)\n",
        "    #outer loop.\n",
        "    for index in range(length-1):\n",
        "        #store index\n",
        "        min_number_index = index\n",
        "        #inner loop.\n",
        "        for after_index in range (index+1,length):\n",
        "            if number_list[after_index] < number_list[min_number_index]:\n",
        "                #storing index of minimum number.\n",
        "                min_number_index = after_index\n",
        "        #changing index.\n",
        "        number_list[index], number_list[min_number_index] = number_list[min_number_index], number_list[index]\n",
        "    print (number_list)\n",
        "\n",
        "my_list = [10,1,20,3,6,2,5,11,15,2,12,14,17,18,29]\n",
        "#function call.\n",
        "selection_sort_ascending(my_list)"
      ]
    },
    {
      "cell_type": "markdown",
      "metadata": {
        "id": "j4ffr2CAHElt"
      },
      "source": [
        "### Task  3\n",
        "\n",
        "Given a list named my_list. <br/>\n",
        "my_list=[10,1,20,3,6,2,5,11,15,2,12,14,17,18,29] <br/>\n",
        "Now use any of the two sorts used above to sort the list in descending order.\n",
        "\n",
        "**Output**<br/>\n",
        "[29, 20, 18, 17, 15, 14, 12, 11, 10, 6, 5, 3, 2, 2, 1]\n"
      ]
    },
    {
      "cell_type": "code",
      "execution_count": null,
      "metadata": {
        "id": "n2X3YR-_HElt",
        "outputId": "70784b2d-f884-489d-93fe-f471d4b55f7e"
      },
      "outputs": [
        {
          "name": "stdout",
          "output_type": "stream",
          "text": [
            "[29, 20, 18, 17, 15, 14, 12, 11, 10, 6, 5, 3, 2, 2, 1]\n"
          ]
        }
      ],
      "source": [
        "#todo\n",
        "#creating a buble sort function.\n",
        "def buble_sort_descending(number_list):\n",
        "    length = len(number_list)\n",
        "    for index in range(length-1):\n",
        "        for after_index in range (length-index-1):\n",
        "            if number_list[after_index+1] > number_list[after_index]:\n",
        "                number_list[after_index], number_list[after_index+1] = number_list[after_index+1], number_list[after_index]\n",
        "    print (number_list)\n",
        "\n",
        "my_list = [10,1,20,3,6,2,5,11,15,2,12,14,17,18,29]\n",
        "#function call.\n",
        "buble_sort_descending(my_list)"
      ]
    },
    {
      "cell_type": "markdown",
      "metadata": {
        "id": "9iYiiTWWHElw"
      },
      "source": [
        "### Task 4\n",
        "\n",
        "Suppose you have a sitting arrangement of the students of the final exam in a list. The list contains the last two digits of their roll number.<br/>\n",
        "\n",
        "sitting_list=[10,30,20,70,11,15,22,16,58,100,12,56,70,80] <br/>\n",
        "\n",
        "Now you want to organize the sitting arrangement. You decided to sort all the students in the even indices into ascending order and all the students in the odd indices  into descending order.  <br/>\n",
        "\n",
        "So write a python program that organizes the list for you the way you decided.<br/>\n",
        "\n",
        "\n",
        "**Sample Output**<br/>\n",
        "[10, 100, 11, 80, 12, 70, 20, 56, 22, 30, 58, 16, 70, 15]"
      ]
    },
    {
      "cell_type": "code",
      "execution_count": null,
      "metadata": {
        "id": "nPdUAKDJHElw",
        "outputId": "6cc3f348-695c-4538-8228-989a9be80deb"
      },
      "outputs": [
        {
          "name": "stdout",
          "output_type": "stream",
          "text": [
            "[10, 100, 11, 80, 12, 70, 20, 56, 22, 30, 58, 16, 70, 15]\n"
          ]
        }
      ],
      "source": [
        "#todo\n",
        "#creating a buble sort function.\n",
        "def buble_sort (number_list,reverse=False):\n",
        "    length = len(number_list)\n",
        "    for index in range(length-1):\n",
        "        for after_index in range (length-index-1):\n",
        "            #using condition for ascending order.\n",
        "            if reverse == False:\n",
        "                if number_list[after_index+1] < number_list[after_index]:\n",
        "                    number_list[after_index], number_list[after_index+1] = number_list[after_index+1], number_list[after_index]\n",
        "            #using condition for descending order.\n",
        "            else:\n",
        "                if number_list[after_index+1] > number_list[after_index]:\n",
        "                    number_list[after_index], number_list[after_index+1] = number_list[after_index+1], number_list[after_index]\n",
        "    return (number_list)\n",
        "#creating a function for organizing the following list.\n",
        "def my_function (number_list):\n",
        "    even_list, odd_list, new_list = [], [], []\n",
        "    #using loop for separeting even and odd numbers from the following list.\n",
        "    for index in range (len(sitting_list)):\n",
        "        if index % 2 == 0:\n",
        "            even_list.append(sitting_list[index])\n",
        "        else:\n",
        "            odd_list.append(sitting_list[index])\n",
        "    #separted even and odd list sorting with ascending and descending order.\n",
        "    sorted_even_list, sorted_odd_list = buble_sort(even_list),buble_sort(odd_list,reverse=True)\n",
        "    #checking the highest length.\n",
        "    if len(sorted_even_list) > len(sorted_odd_list):\n",
        "        max_length = len(sorted_even_list)\n",
        "    else:\n",
        "        max_length = len(sorted_odd_list)\n",
        "    #organizing the even and odd list in a new list.\n",
        "    for index2 in range (len(sorted_even_list)):\n",
        "        new_list.append(sorted_even_list[index2])\n",
        "        new_list.append(sorted_odd_list[index2])\n",
        "\n",
        "    print(new_list)\n",
        "\n",
        "sitting_list = [10,30,20,70,11,15,22,16,58,100,12,56,70,80]\n",
        "#function call.\n",
        "my_function (sitting_list)"
      ]
    },
    {
      "cell_type": "markdown",
      "metadata": {
        "id": "oVR1Tsa0HElz"
      },
      "source": [
        "### Task 5\n",
        "\n",
        "Suppose a list contains the final exam results of CSE110, PHY111, and MAT110 of each student in a listed form. Your task is to sort the list based on a course name that will be given by the user and print the names after sorting. <br/>\n",
        "\n",
        "For example, a list looks like <br/>\n",
        "Lst = [ [‘Farzad’,95,87,91] , [‘Mahjabin’,92,90,83], [‘Sadman’,87,92,80], [‘Nakhla’,85,94,90] ] <br/>\n",
        "where for each list, 1st index is name, 2nd index is CSE110, 3rd index is PHY111 and 4th index is MAT110.\n",
        "\n",
        "**Sample Input**<br/>\n",
        "MAT110\n",
        "\n",
        "**Sample Output**<br/>\n",
        "Farzad <br/>\n",
        "Nakhla <br/>\n",
        "Mahjabin <br/>\n",
        "Sadman\n",
        "\n",
        "**Hint:**<br/>\n",
        "Nested list can be accessed by listname[firstIndex][secondIndex] like lst[0][0] will give Farzad\n"
      ]
    },
    {
      "cell_type": "code",
      "execution_count": null,
      "metadata": {
        "id": "539b2P1NHElz",
        "outputId": "7b7be574-ac26-425a-8643-0c241a7a5e11"
      },
      "outputs": [
        {
          "name": "stdout",
          "output_type": "stream",
          "text": [
            "Enter course name: MAT110\n",
            "Farzad\n",
            "Nakhla\n",
            "Mahjabin\n",
            "Sadman\n"
          ]
        }
      ],
      "source": [
        "#todo\n",
        "#creating a function for solving the following problem.\n",
        "def sorting_result (course_name):\n",
        "    #creating a dictionary with courses name as keys and their index in the given list as values.\n",
        "    course_dict = {\"CSE110\" : 1, \"PHY111\" : 2, \"MAT110\" : 3}\n",
        "    #given list.\n",
        "    lst = [ [\"Farzad\",95,87,91] , [\"Mahjabin\",92,90,83], [\"Sadman\",87,92,80], [\"Nakhla\",85,94,90] ]\n",
        "\n",
        "    marks_list, new_dict = [], {}\n",
        "    #using loop to access names and their marks based on inputed course name.\n",
        "    for index in range (len(lst)):\n",
        "        marks_list.append(lst[index][course_dict[course_name]])\n",
        "        new_dict[lst[index][course_dict[course_name]]] = lst[index][0]\n",
        "    marks_list.sort(reverse=True)\n",
        "    #using loop for printing name from their highest marks to lowest.\n",
        "    for name in range (len(marks_list)):\n",
        "        print(new_dict[marks_list[name]])\n",
        "\n",
        "\n",
        "user_input = input(\"Enter course name: \")\n",
        "#function call.\n",
        "sorting_result(user_input)"
      ]
    },
    {
      "cell_type": "markdown",
      "metadata": {
        "id": "B0Rqbyi4HEl2"
      },
      "source": [
        "### Task 6\n",
        "\n",
        "Suppose you have a list named my_list. Your task is to sort the list and print the count of numbers that have changed their position. <br/>\n",
        "my_list = [4,2,3,1,6,5] <br/>\n",
        "Sorted list would be [1,2,3,4,5,6] where 4 numbers have changed their position.\n",
        "\n",
        "\n",
        "**Sample Output**<br/>\n",
        "4"
      ]
    },
    {
      "cell_type": "code",
      "execution_count": null,
      "metadata": {
        "id": "AMc8jAa7HEl2",
        "outputId": "f771c7d9-e3dc-4783-b83e-18f0f958431c"
      },
      "outputs": [
        {
          "name": "stdout",
          "output_type": "stream",
          "text": [
            "4\n"
          ]
        }
      ],
      "source": [
        "#todo\n",
        "#creating a buble sort function.\n",
        "def count_buble_sort_ascending (number_list):\n",
        "    length = len(number_list)\n",
        "    for index in range(length-1):\n",
        "        for after_index in range (length-index-1):\n",
        "            if number_list[after_index+1] < number_list[after_index]:\n",
        "                number_list[after_index], number_list[after_index+1] = number_list[after_index+1], number_list[after_index]\n",
        "    return number_list\n",
        "#creating a function to count changed position.\n",
        "def change_position_count (number_list):\n",
        "    count = 0\n",
        "    #creating a sorted list.\n",
        "    new_number_list = count_buble_sort_ascending(number_list.copy())\n",
        "    for index in range (len(my_list)):\n",
        "        #check changed position with condition.\n",
        "        if number_list[index] != new_number_list[index]:\n",
        "            count += 1\n",
        "    print(count)\n",
        "\n",
        "my_list = [4,2,3,1,6,5]\n",
        "#function call.\n",
        "change_position_count(my_list)"
      ]
    },
    {
      "cell_type": "markdown",
      "metadata": {
        "id": "iIH5n0sJHEl5"
      },
      "source": [
        "### Task 7\n",
        "\n",
        "Write a python program that takes two lists from the user, merges the two lists, sorts the list, and find the median of the elements of the two lists.\n",
        "\n",
        "**Sample Input 1**<br/>\n",
        "list_one= [1,2,1,4] <br/>\n",
        "list_two= [5,4,1]\n",
        "\n",
        "\n",
        "**Sample Output 1**<br/>\n",
        "Sorted list= [1, 1, 1, 2, 4, 4, 5] <br/>\n",
        "Median = 2\n",
        "\n",
        "**Sample Input 2**<br/>\n",
        "list_one= [1,7,9,10] <br/>\n",
        "list_two= [2,7,6,5]\n",
        "\n",
        "\n",
        "**Sample Output 2**<br/>\n",
        "Sorted list=[1, 2, 5, 6, 7, 7, 9, 10] <br/>\n",
        "Median=6.5\n",
        "\n"
      ]
    },
    {
      "cell_type": "code",
      "execution_count": null,
      "metadata": {
        "id": "KsFxC7XbHEl6",
        "outputId": "2bb48658-e644-4d16-d64a-9f0b9b3cbb17"
      },
      "outputs": [
        {
          "name": "stdout",
          "output_type": "stream",
          "text": [
            "list_one=[1,7,9,10]\n",
            "list_two=[2,7,6,5]\n",
            "Sorted list=[1, 2, 5, 6, 7, 7, 9, 10]\n",
            "Median=6.5\n"
          ]
        }
      ],
      "source": [
        "#todo\n",
        "#using replace() and split() to access input which is similar with sample input.\n",
        "list_one = list(input(\"list_one=\").replace(\"[\",\"\").replace(\"]\",\"\").split(\",\"))\n",
        "list_two = list(input(\"list_two=\").replace(\"[\",\"\").replace(\"]\",\"\").split(\",\"))\n",
        "merge_list = []\n",
        "#merging the following lists.\n",
        "for numbers in list_one:\n",
        "    merge_list.append(int(numbers))\n",
        "for numbers in list_two:\n",
        "    merge_list.append(int(numbers))\n",
        "\n",
        "merge_list = sorted(merge_list)\n",
        "length = len(merge_list)\n",
        "#calculate median with conddition.\n",
        "if length % 2 == 0:\n",
        "    median = (int((merge_list[length//2])) + int((merge_list[(length//2)-1]))) / 2\n",
        "else:\n",
        "    median = merge_list[length//2]\n",
        "print(f\"Sorted list={merge_list}\")\n",
        "print(f\"Median={median}\")"
      ]
    },
    {
      "cell_type": "markdown",
      "metadata": {
        "id": "-XKiwBR1HEl8"
      },
      "source": [
        "### Task 8\n",
        "\n",
        "\n",
        "Write a python program that takes a list from user containing both positive and negative numbers. The program then finds two pairs of values whose summation is closest to zero.\n",
        "\n",
        "**Sample Input 1**<br/>\n",
        "list_one=[-10,15,2,4,-4,7,-8]\n",
        "\n",
        "\n",
        "**Sample Output 1**<br/>\n",
        "Two pairs which have the smallest sum = 4 and -4\n",
        "\n",
        "\n",
        "**Sample Input 2**<br/>\n",
        "list_one=[1,-8,4,-7,-20,26,70,-85]\n",
        "\n",
        "\n",
        "**Sample Output 2**<br/>\n",
        "Two pairs which have the smallest sum = 4 and -7"
      ]
    },
    {
      "cell_type": "code",
      "execution_count": null,
      "metadata": {
        "id": "5ORSGa5GHEl9",
        "outputId": "91b71329-a609-4d5d-9df0-d3bc89d4d14e"
      },
      "outputs": [
        {
          "name": "stdout",
          "output_type": "stream",
          "text": [
            "Two pairs which have the smallest sum = 4 and -7\n"
          ]
        }
      ],
      "source": [
        "#todo\n",
        "import math\n",
        "#creating a function to find two pairs of values whose summation is closest to zero.\n",
        "def closest0_search (number_list):\n",
        "    length, min_distance = len(number_list), math.inf\n",
        "    #outer loop.\n",
        "    for index in range(length-1):\n",
        "        #inner loop.\n",
        "        for after_index in range (index+1,length):\n",
        "            #getting a positive value with abs().\n",
        "            sum_numbs = abs(number_list[index] + number_list[after_index])\n",
        "            #using condition to check minimum distance from zero.\n",
        "            if  sum_numbs < min_distance:\n",
        "                #store minimum distance and also paired numbers.\n",
        "                min_distance, num1, num2 = sum_numbs, number_list[index], number_list[after_index]\n",
        "\n",
        "    return (f\"Two pairs which have the smallest sum = {num1} and {num2}\")\n",
        "\n",
        "list_one=[1,-8,4,-7,-20,26,70,-85]\n",
        "#function call and print.\n",
        "print(closest0_search(list_one))"
      ]
    },
    {
      "cell_type": "code",
      "execution_count": null,
      "metadata": {
        "id": "nocLJmpUBrzN"
      },
      "outputs": [],
      "source": []
    }
  ],
  "metadata": {
    "colab": {
      "provenance": []
    },
    "kernelspec": {
      "display_name": "Python 3",
      "language": "python",
      "name": "python3"
    },
    "language_info": {
      "codemirror_mode": {
        "name": "ipython",
        "version": 3
      },
      "file_extension": ".py",
      "mimetype": "text/x-python",
      "name": "python",
      "nbconvert_exporter": "python",
      "pygments_lexer": "ipython3",
      "version": "3.8.8"
    }
  },
  "nbformat": 4,
  "nbformat_minor": 0
}